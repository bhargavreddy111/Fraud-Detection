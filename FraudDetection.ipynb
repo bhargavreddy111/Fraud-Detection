{
  "nbformat": 4,
  "nbformat_minor": 0,
  "metadata": {
    "colab": {
      "name": "Assignment2_FraudDetection.ipynb",
      "provenance": [],
      "include_colab_link": true
    },
    "kernelspec": {
      "name": "python3",
      "display_name": "Python 3"
    }
  },
  "cells": [
    {
      "cell_type": "markdown",
      "metadata": {
        "id": "view-in-github",
        "colab_type": "text"
      },
      "source": [
        "<a href=\"https://colab.research.google.com/github/bhargavreddy111/Fraud-Detection/blob/master/FraudDetection.ipynb\" target=\"_parent\"><img src=\"https://colab.research.google.com/assets/colab-badge.svg\" alt=\"Open In Colab\"/></a>"
      ]
    },
    {
      "cell_type": "code",
      "metadata": {
        "id": "5YEFK7LSZ4XS",
        "colab_type": "code",
        "outputId": "2972da34-8fa9-4f43-91d2-c0f72b4eefc1",
        "colab": {
          "base_uri": "https://localhost:8080/",
          "height": 141
        }
      },
      "source": [
        "import pandas as pd\n",
        "from sklearn.preprocessing import label_binarize\n",
        "import numpy as np\n",
        "from sklearn.model_selection import train_test_split\n",
        "from sklearn.ensemble import RandomForestClassifier\n",
        "from sklearn.tree import DecisionTreeClassifier\n",
        "from sklearn.model_selection import GridSearchCV\n",
        "from sklearn.model_selection import RandomizedSearchCV\n",
        "from sklearn.model_selection import cross_val_score\n",
        "from sklearn.metrics import classification_report, confusion_matrix\n",
        "from sklearn.ensemble import GradientBoostingClassifier\n",
        "\n",
        "import warnings\n",
        "warnings.filterwarnings(\"ignore\")\n",
        "#Please ignore the warnings with version change\n",
        "\n",
        "from google.colab import drive\n",
        "drive.mount('/gdrive')\n",
        "#Change current working directory to gdrive\n",
        "%cd /gdrive"
      ],
      "execution_count": 0,
      "outputs": [
        {
          "output_type": "stream",
          "text": [
            "Go to this URL in a browser: https://accounts.google.com/o/oauth2/auth?client_id=947318989803-6bn6qk8qdgf4n4g3pfee6491hc0brc4i.apps.googleusercontent.com&redirect_uri=urn%3Aietf%3Awg%3Aoauth%3A2.0%3Aoob&scope=email%20https%3A%2F%2Fwww.googleapis.com%2Fauth%2Fdocs.test%20https%3A%2F%2Fwww.googleapis.com%2Fauth%2Fdrive%20https%3A%2F%2Fwww.googleapis.com%2Fauth%2Fdrive.photos.readonly%20https%3A%2F%2Fwww.googleapis.com%2Fauth%2Fpeopleapi.readonly&response_type=code\n",
            "\n",
            "Enter your authorization code:\n",
            "··········\n",
            "Mounted at /gdrive\n",
            "/gdrive\n"
          ],
          "name": "stdout"
        }
      ]
    },
    {
      "cell_type": "code",
      "metadata": {
        "id": "3jzGiLK0aHUH",
        "colab_type": "code",
        "colab": {}
      },
      "source": [
        "trainfile = r'/gdrive/My Drive/Fraud Detection/Insurance Fraud - TRAIN-3000(1).csv'\n",
        "trainData = pd.read_csv(trainfile) #creates a dataframe\n",
        "testfile = r'/gdrive/My Drive/Fraud Detection/Insurance Fraud -TEST-12900(1).csv'\n",
        "testData = pd.read_csv(testfile) #creates a dataframe\n",
        "\n",
        "#print sizes (shape) of datasets\n",
        "print(trainData.shape)\n",
        "print(testData.shape)\n",
        "\n",
        "trainData.head()\n",
        "testData.head()"
      ],
      "execution_count": 0,
      "outputs": []
    },
    {
      "cell_type": "code",
      "metadata": {
        "id": "TppDk02MaQIs",
        "colab_type": "code",
        "colab": {}
      },
      "source": [
        "#Copy Train data excluding target\n",
        "trainData_Copy = trainData.iloc[:, :-1].copy()\n",
        "testData_Copy = testData.iloc[:, :-1].copy()\n",
        "\n",
        "trainData_Copy.head()"
      ],
      "execution_count": 0,
      "outputs": []
    },
    {
      "cell_type": "code",
      "metadata": {
        "id": "_kXBaTi6acYo",
        "colab_type": "code",
        "colab": {}
      },
      "source": [
        "#List of Categorical Features\n",
        "categoricalFeatures = [\"MONTH\", \"DAYOFWEEK\", 'MAKE', \"ACCIDENTAREA\", \"DAYOFWEEKCLAIMED\", \"MONTHCLAIMED\", 'SEX', 'MARITALSTATUS', 'FAULT', 'POLICYTYPE', 'VEHICLECATEGORY', 'VEHICLEPRICE', 'DAYS_POLICY_ACCIDENT', 'DAYS_POLICY_CLAIM', 'PASTNUMBEROFCLAIMS', 'AGEOFVEHICLE', 'AGEOFPOLICYHOLDER', 'POLICEREPORTFILED', 'WITNESSPRESENT', 'AGENTTYPE', 'NUMBEROFSUPPLIMENTS', 'ADDRESSCHANGE_CLAIM', 'NUMBEROFCARS', 'BASEPOLICY']\n",
        "\n",
        "#Combine Train and test for one Hot Encoding\n",
        "combined_Data = pd.concat([trainData_Copy,testData_Copy], keys=[0,1])\n",
        "\n",
        "#Do one Hot encoding for categorical features\n",
        "combined_Data = pd.get_dummies(combined_Data,columns=categoricalFeatures)\n",
        "\n",
        "#Separate Train data and test data\n",
        "X_train = combined_Data.xs(0)\n",
        "X_test = combined_Data.xs(1)\n",
        "\n",
        "X_test.head()"
      ],
      "execution_count": 0,
      "outputs": []
    },
    {
      "cell_type": "code",
      "metadata": {
        "id": "4JcyT7zJc81T",
        "colab_type": "code",
        "colab": {}
      },
      "source": [
        "y_train = trainData[\"FRAUDFOUND\"]\n",
        "#X_train = trainData.drop([\"FRAUDFOUND\"], axis=1) #extracting training data without the target column\n",
        "y_test = testData[\"FRAUDFOUND\"]\n",
        "#X_test = testData.drop([\"FRAUDFOUND\"], axis=1) #extracting training data without the target column"
      ],
      "execution_count": 0,
      "outputs": []
    },
    {
      "cell_type": "code",
      "metadata": {
        "id": "9i9Pk6z2dQq-",
        "colab_type": "code",
        "outputId": "b8a241f6-b9c0-40f2-b2f7-f13156eb6114",
        "colab": {
          "base_uri": "https://localhost:8080/",
          "height": 243
        }
      },
      "source": [
        "clf = DecisionTreeClassifier()\n",
        "clf.fit(X_train, y_train)\n",
        "clf_predict=clf.predict(X_test)\n",
        "print(\"accuracy Score (testing) for Decision Tree:{0:6f}\".format(clf.score(X_test,y_test)))\n",
        "print(\"Confusion Matrix for Decision Tree\")\n",
        "print(confusion_matrix(y_test,clf_predict))\n",
        "print(classification_report(y_test,clf_predict))"
      ],
      "execution_count": 0,
      "outputs": [
        {
          "output_type": "stream",
          "text": [
            "accuracy Score (testing) for Decision Tree:0.880864\n",
            "Confusion Matrix for Decision Tree\n",
            "[[10934  1486]\n",
            " [   53   445]]\n",
            "              precision    recall  f1-score   support\n",
            "\n",
            "          No       1.00      0.88      0.93     12420\n",
            "         Yes       0.23      0.89      0.37       498\n",
            "\n",
            "    accuracy                           0.88     12918\n",
            "   macro avg       0.61      0.89      0.65     12918\n",
            "weighted avg       0.97      0.88      0.91     12918\n",
            "\n"
          ],
          "name": "stdout"
        }
      ]
    },
    {
      "cell_type": "code",
      "metadata": {
        "id": "YbIWtRNHdhJo",
        "colab_type": "code",
        "colab": {}
      },
      "source": [
        "#Hyperparameter tuning done for decision tree classifier\n",
        "#RANDOM SEARCH--------------------------------------------\n",
        "print(\"RandomizedSearchCV-Decision tree\")\n",
        "parameters={'min_samples_leaf' : range(15,90,10),'max_depth': range(10,40,5),'criterion':['gini','entropy']}\n",
        "clf_random = RandomizedSearchCV(clf,parameters,n_iter=15,cv=5)\n",
        "clf_random.fit(X_train, y_train)\n",
        "grid_parm=clf_random.best_params_\n",
        "print(grid_parm)\n",
        "\n",
        "#GRID SEARCH----------------------------------------\n",
        "print(\"GridSearchCV-Decision tree\")\n",
        "clf_grid = GridSearchCV(clf,parameters,cv=5)\n",
        "clf_grid.fit(X_train, y_train)\n",
        "grid_parm1=clf_grid.best_params_\n",
        "print(grid_parm1)"
      ],
      "execution_count": 0,
      "outputs": []
    },
    {
      "cell_type": "code",
      "metadata": {
        "id": "kFX0SKcJgyHX",
        "colab_type": "code",
        "outputId": "1b8ccfd2-af2d-4d94-df92-59a657856836",
        "colab": {
          "base_uri": "https://localhost:8080/",
          "height": 520
        }
      },
      "source": [
        "#Using the parameters obtained from HyperParameterTuning in the DecisionTreeClassifier \n",
        "clf = DecisionTreeClassifier(**grid_parm)\n",
        "clfr = DecisionTreeClassifier(**grid_parm1)\n",
        "\n",
        "clf.fit(X_train,y_train)\n",
        "clf_predict = clf.predict(X_test)\n",
        "clfr.fit(X_train,y_train)\n",
        "clfr_predict = clfr.predict(X_test)\n",
        "\n",
        "\n",
        "#Obtain accuracy ,confusion matrix,classification report and AUC values for the result above.\n",
        "print(\"accuracy Score (training) after hypertuning randomized search for Decision Tree:{0:6f}\".format(clf.score(X_train,y_train)))\n",
        "print(\"accuracy Score (testing) after hypertuning randomized search for Decision Tree:{0:6f}\".format(clf.score(X_test,y_test)))\n",
        "print(\"accuracy Score (testing) after hypertuning grid search for Decision Tree:{0:6f}\".format(clfr.score(X_test,y_test)))\n",
        "print(\"Confusion Matrix after hypertuning for Decision Tree\")\n",
        "print(confusion_matrix(y_test,clf_predict))\n",
        "print(\"=== Classification Report ===\")\n",
        "print(classification_report(y_test,clf_predict))\n",
        "print(classification_report(y_test,clfr_predict))\n",
        "\n",
        "clf_cv_score = cross_val_score(clf, X_train, y_train, cv=10, scoring=\"balanced_accuracy\")\n",
        "print(clf_cv_score)\n",
        "print('\\n')"
      ],
      "execution_count": 0,
      "outputs": [
        {
          "output_type": "stream",
          "text": [
            "accuracy Score (training) after hypertuning randomized search for Decision Tree:0.891631\n",
            "accuracy Score (testing) after hypertuning randomized search for Decision Tree:0.884115\n",
            "accuracy Score (testing) after hypertuning grid search for Decision Tree:0.877380\n",
            "Confusion Matrix after hypertuning for Decision Tree\n",
            "[[11255  1165]\n",
            " [  332   166]]\n",
            "=== Classification Report ===\n",
            "              precision    recall  f1-score   support\n",
            "\n",
            "          No       0.97      0.91      0.94     12420\n",
            "         Yes       0.12      0.33      0.18       498\n",
            "\n",
            "    accuracy                           0.88     12918\n",
            "   macro avg       0.55      0.62      0.56     12918\n",
            "weighted avg       0.94      0.88      0.91     12918\n",
            "\n",
            "              precision    recall  f1-score   support\n",
            "\n",
            "          No       0.97      0.90      0.93     12420\n",
            "         Yes       0.12      0.35      0.18       498\n",
            "\n",
            "    accuracy                           0.88     12918\n",
            "   macro avg       0.55      0.62      0.56     12918\n",
            "weighted avg       0.94      0.88      0.90     12918\n",
            "\n",
            "[0.76346154 0.76153846 0.75865385 0.6375     0.55       0.5\n",
            " 0.5        0.5        0.55       0.6025641 ]\n",
            "\n",
            "\n"
          ],
          "name": "stdout"
        }
      ]
    },
    {
      "cell_type": "code",
      "metadata": {
        "id": "k4TyHopkpswk",
        "colab_type": "code",
        "outputId": "3dc12415-e5f6-4eba-def2-a5c03c738a7e",
        "colab": {
          "base_uri": "https://localhost:8080/",
          "height": 555
        }
      },
      "source": [
        "#Normal randomforest\n",
        "rand_parameters={'min_samples_leaf' : range(15,90,10),'max_depth': range(1,20,2),'max_features':[2,3,4],'n_estimators':[10,20,30]}\n",
        "rfc = RandomForestClassifier()\n",
        "rfc.fit(X_train, y_train)\n",
        "rfc_predict=rfc.predict(X_test)\n",
        "print(\"accuracy Score (testing) for RandomForest:{0:6f}\".format(rfc.score(X_test,y_test)))\n",
        "print(\"Confusion Matrix for Random Forest:\")\n",
        "print(confusion_matrix(y_test,rfc_predict))\n",
        "print(classification_report(y_test,rfc_predict))\n",
        "\n",
        "#RANDOMIZED SEARCH----------------------------------------\n",
        "rfc_random = RandomizedSearchCV(rfc,rand_parameters,n_iter=10,cv=5)\n",
        "rfc_random.fit(X_train, y_train)\n",
        "grid_parm_rfc=rfc_random.best_params_\n",
        "print(grid_parm_rfc)\n",
        "rfc1= RandomForestClassifier(**grid_parm_rfc)\n",
        "rfc1.fit(X_train,y_train)\n",
        "rfc1_predict = rfc1.predict(X_test)\n",
        "print(\"accuracy Score (testing_Random Search) after hypertuning for Random Forest:{0:6f}\".format(rfc1.score(X_test,y_test)))\n",
        "print(\"Confusion Matrix after hypertuning for Random Forest:\")\n",
        "print(confusion_matrix(y_test,rfc1_predict))\n",
        "print(\"=== Classification Report ===\")\n",
        "print(classification_report(y_test,rfc1_predict))\n",
        "rfc1_cv_score = cross_val_score(rfc1, X_train, y_train)\n",
        "print(rfc1_cv_score)\n",
        "print('\\n')\n",
        "\n"
      ],
      "execution_count": 0,
      "outputs": [
        {
          "output_type": "stream",
          "text": [
            "accuracy Score (testing) for RandomForest:0.958972\n",
            "Confusion Matrix for Random Forest:\n",
            "[[12006   414]\n",
            " [  116   382]]\n",
            "              precision    recall  f1-score   support\n",
            "\n",
            "          No       0.99      0.97      0.98     12420\n",
            "         Yes       0.48      0.77      0.59       498\n",
            "\n",
            "    accuracy                           0.96     12918\n",
            "   macro avg       0.74      0.87      0.78     12918\n",
            "weighted avg       0.97      0.96      0.96     12918\n",
            "\n",
            "{'n_estimators': 30, 'min_samples_leaf': 75, 'max_features': 2, 'max_depth': 7}\n",
            "accuracy Score (testing_Random Search) after hypertuning for Random Forest:0.961449\n",
            "Confusion Matrix after hypertuning for Random Forest:\n",
            "[[12420     0]\n",
            " [  498     0]]\n",
            "=== Classification Report ===\n",
            "              precision    recall  f1-score   support\n",
            "\n",
            "          No       0.96      1.00      0.98     12420\n",
            "         Yes       0.00      0.00      0.00       498\n",
            "\n",
            "    accuracy                           0.96     12918\n",
            "   macro avg       0.48      0.50      0.49     12918\n",
            "weighted avg       0.92      0.96      0.94     12918\n",
            "\n",
            "[0.867      0.867      0.86686687]\n",
            "\n",
            "\n"
          ],
          "name": "stdout"
        }
      ]
    },
    {
      "cell_type": "code",
      "metadata": {
        "id": "HhS6Dav-GtpG",
        "colab_type": "code",
        "outputId": "a478afe1-b41a-4592-9f91-70ae5fb3c999",
        "colab": {
          "base_uri": "https://localhost:8080/",
          "height": 329
        }
      },
      "source": [
        "#Grid SEARCH----------------------------------------\n",
        "grid_parameters={'min_samples_leaf' : range(15,90,10),'max_depth': range(1,20,2),'max_features':[2,3,4],'n_estimators':[10,20,30]}\n",
        "rfc_grid = GridSearchCV(rfc,grid_parameters,cv=5)\n",
        "rfc_grid.fit(X_train, y_train)\n",
        "grid_parm_rfc1=rfc_grid.best_params_\n",
        "print(grid_parm_rfc1)\n",
        "rfc2= RandomForestClassifier(**grid_parm_rfc1)\n",
        "rfc2.fit(X_train,y_train)\n",
        "rfc2_predict = rfc2.predict(X_test)\n",
        "print(\"accuracy Score (testing_gridsearch) after hypertuning for Random Forest:{0:6f}\".format(rfc2.score(X_test,y_test)))\n",
        "print(\"Confusion Matrix after hypertuning for Random Forest:\")\n",
        "print(confusion_matrix(y_test,rfc2_predict))\n",
        "print(\"=== Classification Report ===\")\n",
        "print(classification_report(y_test,rfc2_predict))\n",
        "rfc2_cv_score = cross_val_score(rfc2, X_train, y_train)\n",
        "print(rfc2_cv_score)\n",
        "print('\\n')"
      ],
      "execution_count": 0,
      "outputs": [
        {
          "output_type": "stream",
          "text": [
            "{'max_depth': 1, 'max_features': 2, 'min_samples_leaf': 15, 'n_estimators': 10}\n",
            "accuracy Score (testing_gridsearch) after hypertuning for Random Forest:0.961449\n",
            "Confusion Matrix after hypertuning for Random Forest:\n",
            "[[12420     0]\n",
            " [  498     0]]\n",
            "=== Classification Report ===\n",
            "              precision    recall  f1-score   support\n",
            "\n",
            "          No       0.96      1.00      0.98     12420\n",
            "         Yes       0.00      0.00      0.00       498\n",
            "\n",
            "    accuracy                           0.96     12918\n",
            "   macro avg       0.48      0.50      0.49     12918\n",
            "weighted avg       0.92      0.96      0.94     12918\n",
            "\n",
            "[0.867      0.867      0.86686687]\n",
            "\n",
            "\n"
          ],
          "name": "stdout"
        }
      ]
    }
  ]
}